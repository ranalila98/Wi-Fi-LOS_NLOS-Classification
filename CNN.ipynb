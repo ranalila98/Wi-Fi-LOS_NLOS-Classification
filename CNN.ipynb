{
 "cells": [
  {
   "cell_type": "markdown",
   "metadata": {},
   "source": [
    "## Import necessary "
   ]
  },
  {
   "cell_type": "code",
   "execution_count": 1,
   "metadata": {},
   "outputs": [
    {
     "name": "stdout",
     "output_type": "stream",
     "text": [
      "Pytorch Version : 2.0.1+cpu\n"
     ]
    }
   ],
   "source": [
    "import torch\n",
    "import torch.nn as nn\n",
    "import torch.optim as optim\n",
    "from torch.utils.data import DataLoader, TensorDataset\n",
    "\n",
    "from sklearn.model_selection import train_test_split\n",
    "from sklearn.metrics import accuracy_score, precision_recall_fscore_support\n",
    "from torch.utils.tensorboard import SummaryWriter\n",
    "\n",
    "import numpy as np\n",
    "import pandas as pd\n",
    "import matplotlib.pyplot as plt \n",
    "\n",
    "import time\n",
    "import random\n",
    "import os\n",
    "import dataset\n",
    "\n",
    "\n",
    "print(\"Pytorch Version :\", torch.__version__)  # Pytorch Version : 2.0.1+cpu\n",
    "\n",
    "writer = SummaryWriter('runs/Scenario_Classfication')"
   ]
  },
  {
   "cell_type": "markdown",
   "metadata": {},
   "source": [
    "## transfer learning"
   ]
  },
  {
   "cell_type": "code",
   "execution_count": 2,
   "metadata": {},
   "outputs": [],
   "source": [
    "retrain = False\n",
    "path = os.getcwd()\n",
    "dir_ = 'model'\n",
    "checkpoint_name = ''"
   ]
  },
  {
   "cell_type": "code",
   "execution_count": 3,
   "metadata": {},
   "outputs": [],
   "source": [
    "if retrain:\n",
    "    checkpoint_path = os.path.join(path, dir_ , checkpoint_name)\n",
    "    checkpoint = torch.load(checkpoint_path)\n",
    "\n",
    "    model.load_state_dict(checkpoint['model_state_dict'])\n",
    "    optimizer.load_state_dict(checkpoint['optimizer_state_dict'])\n",
    "    epoch = checkpoint['epoch']\n",
    "    loss = checkpoint['loss']\n",
    "    print(checkpoint_path)"
   ]
  },
  {
   "cell_type": "markdown",
   "metadata": {},
   "source": [
    "# Hyperparameters"
   ]
  },
  {
   "cell_type": "code",
   "execution_count": 4,
   "metadata": {},
   "outputs": [],
   "source": [
    "# random seed\n",
    "random_seed = 42\n",
    "num_epoch = 25\n",
    "batch_size = 64\n",
    "in_channels = 1\n",
    "num_classes = 4\n",
    "num_layers = 2\n",
    "fully_connected = 128\n",
    "lr = 0.01\n",
    "\n",
    "weight_decay = 0.001\n",
    "\n",
    "# Parameters\n",
    "view_train_iter = 100\n",
    "view_val_iter = 5\n",
    "save_point = 0.90"
   ]
  },
  {
   "cell_type": "markdown",
   "metadata": {},
   "source": [
    "### Random Seed"
   ]
  },
  {
   "cell_type": "code",
   "execution_count": 5,
   "metadata": {},
   "outputs": [],
   "source": [
    "def torch_random_seed(on_seed=False, random_seed=1):\n",
    "    if on_seed:\n",
    "        torch.manual_seed(random_seed)\n",
    "        torch.backends.cudnn.deterministic = True\n",
    "        torch.backends.cudnn.benchmark = False\n",
    "\n",
    "        np.random.seed(random_seed)\n",
    "        random.seed(random_seed)\n",
    "        \n",
    "torch_random_seed(on_seed=True, random_seed=random_seed)"
   ]
  },
  {
   "cell_type": "markdown",
   "metadata": {},
   "source": [
    "## Model Evaluation Function"
   ]
  },
  {
   "cell_type": "code",
   "execution_count": 6,
   "metadata": {},
   "outputs": [],
   "source": [
    "def get_clf_eval(y_true, y_pred, average='weighted'):\n",
    "    accuracy = accuracy_score(y_true, y_pred)\n",
    "    precision, recall, f1, _ = precision_recall_fscore_support(\n",
    "        y_true, y_pred, average=average, warn_for=tuple())\n",
    "    return accuracy, precision, recall, f1"
   ]
  },
  {
   "cell_type": "markdown",
   "metadata": {},
   "source": [
    "## Load dataset"
   ]
  },
  {
   "cell_type": "code",
   "execution_count": 7,
   "metadata": {},
   "outputs": [
    {
     "name": "stdout",
     "output_type": "stream",
     "text": [
      "./dataset/Glass\\1.csv\n",
      "./dataset/Glass\\10.csv\n",
      "./dataset/Glass\\11.csv\n",
      "./dataset/Glass\\12.csv\n",
      "./dataset/Glass\\13.csv\n",
      "./dataset/Glass\\14.csv\n",
      "./dataset/Glass\\2.csv\n",
      "./dataset/Glass\\3.csv\n",
      "./dataset/Glass\\4.csv\n",
      "./dataset/Glass\\5.csv\n",
      "./dataset/Glass\\6.csv\n",
      "./dataset/Glass\\7.csv\n",
      "./dataset/Glass\\8.csv\n",
      "./dataset/Glass\\9.csv\n",
      "./dataset/LOS\\1.csv\n",
      "./dataset/LOS\\10.csv\n",
      "./dataset/LOS\\11.csv\n",
      "./dataset/LOS\\12.csv\n",
      "./dataset/LOS\\13.csv\n",
      "./dataset/LOS\\14.csv\n",
      "./dataset/LOS\\2.csv\n",
      "./dataset/LOS\\3.csv\n",
      "./dataset/LOS\\4.csv\n",
      "./dataset/LOS\\5.csv\n",
      "./dataset/LOS\\6.csv\n",
      "./dataset/LOS\\7.csv\n",
      "./dataset/LOS\\8.csv\n",
      "./dataset/LOS\\9.csv\n",
      "./dataset/Metal\\1.csv\n",
      "./dataset/Metal\\10.csv\n",
      "./dataset/Metal\\11.csv\n",
      "./dataset/Metal\\12.csv\n",
      "./dataset/Metal\\13.csv\n",
      "./dataset/Metal\\14.csv\n",
      "./dataset/Metal\\2.csv\n",
      "./dataset/Metal\\3.csv\n",
      "./dataset/Metal\\4.csv\n",
      "./dataset/Metal\\5.csv\n",
      "./dataset/Metal\\6.csv\n",
      "./dataset/Metal\\7.csv\n",
      "./dataset/Metal\\8.csv\n",
      "./dataset/Metal\\9.csv\n",
      "./dataset/Wall\\1.csv\n",
      "./dataset/Wall\\10m.csv\n",
      "./dataset/Wall\\11m.csv\n",
      "./dataset/Wall\\12m.csv\n",
      "./dataset/Wall\\13m.csv\n",
      "./dataset/Wall\\14m.csv\n",
      "./dataset/Wall\\2m.csv\n",
      "./dataset/Wall\\3m.csv\n",
      "./dataset/Wall\\4m.csv\n",
      "./dataset/Wall\\5m.csv\n",
      "./dataset/Wall\\6m.csv\n",
      "./dataset/Wall\\7m.csv\n",
      "./dataset/Wall\\8m.csv\n",
      "./dataset/Wall\\9m.csv\n",
      "\n",
      "Columns : (4,)\n",
      "Data : (12195, 4)\n"
     ]
    }
   ],
   "source": [
    "columns, data = dataset.import_from_files()\n",
    "print(\"\\nColumns :\", columns.shape, sep=\" \")\n",
    "print(\"Data :\", data.shape, sep=\" \")"
   ]
  },
  {
   "cell_type": "code",
   "execution_count": 8,
   "metadata": {},
   "outputs": [
    {
     "name": "stdout",
     "output_type": "stream",
     "text": [
      "[[  1.      1.501 -58.      1.   ]\n",
      " [  1.      1.54  -55.      1.   ]\n",
      " [  1.      1.54  -55.      1.   ]\n",
      " ...\n",
      " [  9.     10.764 -80.      3.   ]\n",
      " [  9.     10.764 -80.      3.   ]\n",
      " [  9.     10.569 -80.      3.   ]]\n",
      "['True Range' 'RTT' 'RSSI' 'Scenario']\n"
     ]
    }
   ],
   "source": [
    "print(data)\n",
    "print(columns)"
   ]
  },
  {
   "cell_type": "markdown",
   "metadata": {},
   "source": [
    "### Create Pandas Dataframe "
   ]
  },
  {
   "cell_type": "code",
   "execution_count": 9,
   "metadata": {},
   "outputs": [
    {
     "data": {
      "text/html": [
       "<div>\n",
       "<style scoped>\n",
       "    .dataframe tbody tr th:only-of-type {\n",
       "        vertical-align: middle;\n",
       "    }\n",
       "\n",
       "    .dataframe tbody tr th {\n",
       "        vertical-align: top;\n",
       "    }\n",
       "\n",
       "    .dataframe thead th {\n",
       "        text-align: right;\n",
       "    }\n",
       "</style>\n",
       "<table border=\"1\" class=\"dataframe\">\n",
       "  <thead>\n",
       "    <tr style=\"text-align: right;\">\n",
       "      <th></th>\n",
       "      <th>True Range</th>\n",
       "      <th>RTT</th>\n",
       "      <th>RSSI</th>\n",
       "      <th>Scenario</th>\n",
       "    </tr>\n",
       "  </thead>\n",
       "  <tbody>\n",
       "    <tr>\n",
       "      <th>0</th>\n",
       "      <td>1.0</td>\n",
       "      <td>1.501</td>\n",
       "      <td>-58.0</td>\n",
       "      <td>1.0</td>\n",
       "    </tr>\n",
       "    <tr>\n",
       "      <th>1</th>\n",
       "      <td>1.0</td>\n",
       "      <td>1.540</td>\n",
       "      <td>-55.0</td>\n",
       "      <td>1.0</td>\n",
       "    </tr>\n",
       "    <tr>\n",
       "      <th>2</th>\n",
       "      <td>1.0</td>\n",
       "      <td>1.540</td>\n",
       "      <td>-55.0</td>\n",
       "      <td>1.0</td>\n",
       "    </tr>\n",
       "    <tr>\n",
       "      <th>3</th>\n",
       "      <td>1.0</td>\n",
       "      <td>1.501</td>\n",
       "      <td>-54.0</td>\n",
       "      <td>1.0</td>\n",
       "    </tr>\n",
       "    <tr>\n",
       "      <th>4</th>\n",
       "      <td>1.0</td>\n",
       "      <td>1.423</td>\n",
       "      <td>-53.0</td>\n",
       "      <td>1.0</td>\n",
       "    </tr>\n",
       "  </tbody>\n",
       "</table>\n",
       "</div>"
      ],
      "text/plain": [
       "   True Range    RTT  RSSI  Scenario\n",
       "0         1.0  1.501 -58.0       1.0\n",
       "1         1.0  1.540 -55.0       1.0\n",
       "2         1.0  1.540 -55.0       1.0\n",
       "3         1.0  1.501 -54.0       1.0\n",
       "4         1.0  1.423 -53.0       1.0"
      ]
     },
     "execution_count": 9,
     "metadata": {},
     "output_type": "execute_result"
    }
   ],
   "source": [
    "df_final = pd.DataFrame(data=data, columns=columns)\n",
    "df_final.head()"
   ]
  },
  {
   "cell_type": "markdown",
   "metadata": {},
   "source": [
    "### Check for rows with NaN values in specific columns"
   ]
  },
  {
   "cell_type": "code",
   "execution_count": 10,
   "metadata": {},
   "outputs": [
    {
     "name": "stdout",
     "output_type": "stream",
     "text": [
      "      True Range  RTT  RSSI  Scenario\n",
      "8685         NaN  NaN   NaN       2.0\n",
      "8686         NaN  NaN   NaN       2.0\n",
      "8687         NaN  NaN   NaN       2.0\n",
      "8688         NaN  NaN   NaN       2.0\n",
      "8689         NaN  NaN   NaN       2.0\n",
      "8690         NaN  NaN   NaN       2.0\n",
      "8691         NaN  NaN   NaN       2.0\n",
      "8692         NaN  NaN   NaN       2.0\n",
      "8693         NaN  NaN   NaN       2.0\n",
      "8694         NaN  NaN   NaN       2.0\n",
      "8695         NaN  NaN   NaN       2.0\n",
      "8696         NaN  NaN   NaN       2.0\n",
      "8697         NaN  NaN   NaN       2.0\n",
      "8698         NaN  NaN   NaN       2.0\n",
      "8699         NaN  NaN   NaN       2.0\n",
      "8700         NaN  NaN   NaN       2.0\n",
      "8701         NaN  NaN   NaN       2.0\n",
      "8702         NaN  NaN   NaN       2.0\n",
      "8703         NaN  NaN   NaN       2.0\n"
     ]
    }
   ],
   "source": [
    "selected_columns = ['RTT', 'RSSI'] \n",
    "nan_rows = df_final[df_final[selected_columns].isnull().any(axis=1)]\n",
    "print(nan_rows)"
   ]
  },
  {
   "cell_type": "code",
   "execution_count": 11,
   "metadata": {},
   "outputs": [
    {
     "data": {
      "text/html": [
       "<div>\n",
       "<style scoped>\n",
       "    .dataframe tbody tr th:only-of-type {\n",
       "        vertical-align: middle;\n",
       "    }\n",
       "\n",
       "    .dataframe tbody tr th {\n",
       "        vertical-align: top;\n",
       "    }\n",
       "\n",
       "    .dataframe thead th {\n",
       "        text-align: right;\n",
       "    }\n",
       "</style>\n",
       "<table border=\"1\" class=\"dataframe\">\n",
       "  <thead>\n",
       "    <tr style=\"text-align: right;\">\n",
       "      <th></th>\n",
       "      <th>True Range</th>\n",
       "      <th>RTT</th>\n",
       "      <th>RSSI</th>\n",
       "      <th>Scenario</th>\n",
       "    </tr>\n",
       "  </thead>\n",
       "  <tbody>\n",
       "    <tr>\n",
       "      <th>0</th>\n",
       "      <td>1.0</td>\n",
       "      <td>1.501</td>\n",
       "      <td>-58.0</td>\n",
       "      <td>1.0</td>\n",
       "    </tr>\n",
       "    <tr>\n",
       "      <th>1</th>\n",
       "      <td>1.0</td>\n",
       "      <td>1.540</td>\n",
       "      <td>-55.0</td>\n",
       "      <td>1.0</td>\n",
       "    </tr>\n",
       "    <tr>\n",
       "      <th>2</th>\n",
       "      <td>1.0</td>\n",
       "      <td>1.540</td>\n",
       "      <td>-55.0</td>\n",
       "      <td>1.0</td>\n",
       "    </tr>\n",
       "    <tr>\n",
       "      <th>3</th>\n",
       "      <td>1.0</td>\n",
       "      <td>1.501</td>\n",
       "      <td>-54.0</td>\n",
       "      <td>1.0</td>\n",
       "    </tr>\n",
       "    <tr>\n",
       "      <th>4</th>\n",
       "      <td>1.0</td>\n",
       "      <td>1.423</td>\n",
       "      <td>-53.0</td>\n",
       "      <td>1.0</td>\n",
       "    </tr>\n",
       "    <tr>\n",
       "      <th>...</th>\n",
       "      <td>...</td>\n",
       "      <td>...</td>\n",
       "      <td>...</td>\n",
       "      <td>...</td>\n",
       "    </tr>\n",
       "    <tr>\n",
       "      <th>12190</th>\n",
       "      <td>9.0</td>\n",
       "      <td>10.569</td>\n",
       "      <td>-79.0</td>\n",
       "      <td>3.0</td>\n",
       "    </tr>\n",
       "    <tr>\n",
       "      <th>12191</th>\n",
       "      <td>9.0</td>\n",
       "      <td>10.647</td>\n",
       "      <td>-79.0</td>\n",
       "      <td>3.0</td>\n",
       "    </tr>\n",
       "    <tr>\n",
       "      <th>12192</th>\n",
       "      <td>9.0</td>\n",
       "      <td>10.764</td>\n",
       "      <td>-80.0</td>\n",
       "      <td>3.0</td>\n",
       "    </tr>\n",
       "    <tr>\n",
       "      <th>12193</th>\n",
       "      <td>9.0</td>\n",
       "      <td>10.764</td>\n",
       "      <td>-80.0</td>\n",
       "      <td>3.0</td>\n",
       "    </tr>\n",
       "    <tr>\n",
       "      <th>12194</th>\n",
       "      <td>9.0</td>\n",
       "      <td>10.569</td>\n",
       "      <td>-80.0</td>\n",
       "      <td>3.0</td>\n",
       "    </tr>\n",
       "  </tbody>\n",
       "</table>\n",
       "<p>12176 rows × 4 columns</p>\n",
       "</div>"
      ],
      "text/plain": [
       "       True Range     RTT  RSSI  Scenario\n",
       "0             1.0   1.501 -58.0       1.0\n",
       "1             1.0   1.540 -55.0       1.0\n",
       "2             1.0   1.540 -55.0       1.0\n",
       "3             1.0   1.501 -54.0       1.0\n",
       "4             1.0   1.423 -53.0       1.0\n",
       "...           ...     ...   ...       ...\n",
       "12190         9.0  10.569 -79.0       3.0\n",
       "12191         9.0  10.647 -79.0       3.0\n",
       "12192         9.0  10.764 -80.0       3.0\n",
       "12193         9.0  10.764 -80.0       3.0\n",
       "12194         9.0  10.569 -80.0       3.0\n",
       "\n",
       "[12176 rows x 4 columns]"
      ]
     },
     "execution_count": 11,
     "metadata": {},
     "output_type": "execute_result"
    }
   ],
   "source": [
    "# Remove rows with NaN values in specific columns\n",
    "df_final = df_final.dropna(subset=selected_columns)\n",
    "df_final"
   ]
  },
  {
   "cell_type": "code",
   "execution_count": 12,
   "metadata": {},
   "outputs": [
    {
     "name": "stdout",
     "output_type": "stream",
     "text": [
      "Line of Sight Count : 3243\n",
      "Glass Count : 2852\n",
      "Metal Count : 3017\n",
      "Wall Count : 3064\n"
     ]
    }
   ],
   "source": [
    "# LOS/NLOS Count\n",
    "glass_count = df_final.query(\"Scenario == 0\")[\"Scenario\"].count()\n",
    "los_count = df_final.query(\"Scenario == 1\")[\"Scenario\"].count()\n",
    "metal_count = df_final.query(\"Scenario == 2\")[\"Scenario\"].count()\n",
    "wall_count = df_final.query(\"Scenario == 3\")[\"Scenario\"].count()\n",
    "\n",
    "print(\"Line of Sight Count :\", los_count)\n",
    "print(\"Glass Count :\", glass_count)\n",
    "print(\"Metal Count :\", metal_count)\n",
    "print(\"Wall Count :\", wall_count)"
   ]
  },
  {
   "cell_type": "code",
   "execution_count": 13,
   "metadata": {},
   "outputs": [
    {
     "data": {
      "text/html": [
       "<div>\n",
       "<style scoped>\n",
       "    .dataframe tbody tr th:only-of-type {\n",
       "        vertical-align: middle;\n",
       "    }\n",
       "\n",
       "    .dataframe tbody tr th {\n",
       "        vertical-align: top;\n",
       "    }\n",
       "\n",
       "    .dataframe thead th {\n",
       "        text-align: right;\n",
       "    }\n",
       "</style>\n",
       "<table border=\"1\" class=\"dataframe\">\n",
       "  <thead>\n",
       "    <tr style=\"text-align: right;\">\n",
       "      <th></th>\n",
       "      <th>RTT</th>\n",
       "      <th>RSSI</th>\n",
       "    </tr>\n",
       "  </thead>\n",
       "  <tbody>\n",
       "    <tr>\n",
       "      <th>0</th>\n",
       "      <td>1.501</td>\n",
       "      <td>-58.0</td>\n",
       "    </tr>\n",
       "    <tr>\n",
       "      <th>1</th>\n",
       "      <td>1.540</td>\n",
       "      <td>-55.0</td>\n",
       "    </tr>\n",
       "    <tr>\n",
       "      <th>2</th>\n",
       "      <td>1.540</td>\n",
       "      <td>-55.0</td>\n",
       "    </tr>\n",
       "    <tr>\n",
       "      <th>3</th>\n",
       "      <td>1.501</td>\n",
       "      <td>-54.0</td>\n",
       "    </tr>\n",
       "    <tr>\n",
       "      <th>4</th>\n",
       "      <td>1.423</td>\n",
       "      <td>-53.0</td>\n",
       "    </tr>\n",
       "    <tr>\n",
       "      <th>...</th>\n",
       "      <td>...</td>\n",
       "      <td>...</td>\n",
       "    </tr>\n",
       "    <tr>\n",
       "      <th>12190</th>\n",
       "      <td>10.569</td>\n",
       "      <td>-79.0</td>\n",
       "    </tr>\n",
       "    <tr>\n",
       "      <th>12191</th>\n",
       "      <td>10.647</td>\n",
       "      <td>-79.0</td>\n",
       "    </tr>\n",
       "    <tr>\n",
       "      <th>12192</th>\n",
       "      <td>10.764</td>\n",
       "      <td>-80.0</td>\n",
       "    </tr>\n",
       "    <tr>\n",
       "      <th>12193</th>\n",
       "      <td>10.764</td>\n",
       "      <td>-80.0</td>\n",
       "    </tr>\n",
       "    <tr>\n",
       "      <th>12194</th>\n",
       "      <td>10.569</td>\n",
       "      <td>-80.0</td>\n",
       "    </tr>\n",
       "  </tbody>\n",
       "</table>\n",
       "<p>12176 rows × 2 columns</p>\n",
       "</div>"
      ],
      "text/plain": [
       "          RTT  RSSI\n",
       "0       1.501 -58.0\n",
       "1       1.540 -55.0\n",
       "2       1.540 -55.0\n",
       "3       1.501 -54.0\n",
       "4       1.423 -53.0\n",
       "...       ...   ...\n",
       "12190  10.569 -79.0\n",
       "12191  10.647 -79.0\n",
       "12192  10.764 -80.0\n",
       "12193  10.764 -80.0\n",
       "12194  10.569 -80.0\n",
       "\n",
       "[12176 rows x 2 columns]"
      ]
     },
     "execution_count": 13,
     "metadata": {},
     "output_type": "execute_result"
    }
   ],
   "source": [
    "selected_columns = ['RTT', 'RSSI']  \n",
    "df_final_data = df_final[selected_columns]\n",
    "df_final_data"
   ]
  },
  {
   "cell_type": "markdown",
   "metadata": {},
   "source": [
    "### train test dataset split and preprocessing"
   ]
  },
  {
   "cell_type": "code",
   "execution_count": 14,
   "metadata": {},
   "outputs": [
    {
     "name": "stdout",
     "output_type": "stream",
     "text": [
      "x_train shape, y_train_Shape : (9862, 2) (9862,)\n",
      "x_val shape, y_val_shape : (1096, 2) (1096,)\n",
      "x_test shape, y_test_shape : (1218, 2) (1218,)\n",
      "x_train shape, y_train_Shape : (9862, 2) (9862,)\n",
      "x_val shape, y_val_shape : (1096, 2) (1096,)\n",
      "x_test shape, y_test_shape : (1218, 2) (1218,)\n"
     ]
    }
   ],
   "source": [
    "x_train, x_test, y_train, y_test = train_test_split(df_final_data.values, df_final['Scenario'].values, test_size=0.1, random_state=42, stratify=df_final['Scenario'].values)\n",
    "x_train, x_val, y_train, y_val = train_test_split(x_train, y_train, test_size=0.1, random_state=random_seed, stratify=y_train)\n",
    "\n",
    "print(\"x_train shape, y_train_Shape :\", x_train.shape, y_train.shape)\n",
    "print(\"x_val shape, y_val_shape :\", x_val.shape, y_val.shape)\n",
    "print(\"x_test shape, y_test_shape :\", x_test.shape, y_test.shape)\n",
    "from sklearn.preprocessing import StandardScaler\n",
    "\n",
    "# Initialize the StandardScaler\n",
    "scaler = StandardScaler()\n",
    "# Fit on training data and transform it\n",
    "x_train = scaler.fit_transform(x_train)\n",
    "\n",
    "# Transform validation and test sets using the same scaler\n",
    "x_val = scaler.transform(x_val)\n",
    "x_test = scaler.transform(x_test)\n",
    "\n",
    "print(\"x_train shape, y_train_Shape :\", x_train.shape, y_train.shape)\n",
    "print(\"x_val shape, y_val_shape :\", x_val.shape, y_val.shape)\n",
    "print(\"x_test shape, y_test_shape :\", x_test.shape, y_test.shape)"
   ]
  },
  {
   "cell_type": "markdown",
   "metadata": {},
   "source": [
    "## Dataset & DataLoader"
   ]
  },
  {
   "cell_type": "code",
   "execution_count": 15,
   "metadata": {},
   "outputs": [],
   "source": [
    "def generating_loader(x_data, y_data, batch_size=batch_size, shuffle=True, drop_last=True):\n",
    "    # preprocessing x_data\n",
    "    x_data = np.expand_dims(x_data, axis=1)\n",
    "    x_tensor = torch.tensor(x_data, dtype=torch.float32)\n",
    "    # preprocessing y_data\n",
    "    y_tensor = torch.tensor(y_data, dtype=torch.long).view(-1)\n",
    "\n",
    "    return DataLoader(TensorDataset(x_tensor, y_tensor), batch_size=batch_size, shuffle=shuffle, drop_last=drop_last)\n"
   ]
  },
  {
   "cell_type": "code",
   "execution_count": 16,
   "metadata": {},
   "outputs": [
    {
     "name": "stdout",
     "output_type": "stream",
     "text": [
      "Train  0 count : 2310\n",
      "Train 1 count : 2627\n",
      "Train  2 count : 2444\n",
      "Train 3 count : 2481\n",
      "Validation  0 count : 257\n",
      "Validation 1 count : 292\n",
      "Validation  2 count : 271\n",
      "Validation 3 count : 276\n",
      "Test NLOS 0 count : 285\n",
      "Test NLOS 1 count : 324\n",
      "Test NLOS 2 count : 302\n",
      "Test NLOS 3 count : 307\n"
     ]
    }
   ],
   "source": [
    "trainloader = generating_loader(x_train, y_train, batch_size=batch_size, shuffle=True, drop_last=True)\n",
    "validationloader = generating_loader(x_val, y_val, batch_size=batch_size, shuffle=False, drop_last=True)\n",
    "testloader = generating_loader(x_val, y_val, batch_size=batch_size, shuffle=False, drop_last=True)\n",
    "\n",
    "print(\"Train  0 count :\", len(y_train[y_train==0]))\n",
    "print(\"Train 1 count :\", len(y_train[y_train==1]))\n",
    "print(\"Train  2 count :\", len(y_train[y_train==2]))\n",
    "print(\"Train 3 count :\", len(y_train[y_train==3]))\n",
    "print(\"Validation  0 count :\", len(y_val[y_val==0]))\n",
    "print(\"Validation 1 count :\", len(y_val[y_val==1]))\n",
    "print(\"Validation  2 count :\", len(y_val[y_val==2]))\n",
    "print(\"Validation 3 count :\", len(y_val[y_val==3]))\n",
    "print(\"Test NLOS 0 count :\", len(y_test[y_test==0]))\n",
    "print(\"Test NLOS 1 count :\", len(y_test[y_test==1]))\n",
    "print(\"Test NLOS 2 count :\", len(y_test[y_test==2]))\n",
    "print(\"Test NLOS 3 count :\", len(y_test[y_test==3]))"
   ]
  },
  {
   "cell_type": "code",
   "execution_count": 17,
   "metadata": {},
   "outputs": [
    {
     "name": "stdout",
     "output_type": "stream",
     "text": [
      "torch.Size([64, 1, 2]) torch.Size([64])\n"
     ]
    }
   ],
   "source": [
    "for x, label in trainloader:\n",
    "    print(x.shape, label.shape)\n",
    "    break"
   ]
  },
  {
   "cell_type": "markdown",
   "metadata": {},
   "source": [
    "### Create Model"
   ]
  },
  {
   "cell_type": "code",
   "execution_count": 18,
   "metadata": {},
   "outputs": [],
   "source": [
    "import torch.nn.functional as F\n",
    "class CNNOnly(nn.Module):\n",
    "    def __init__(self, in_channels, out_channels):\n",
    "        super(CNNOnly, self).__init__()\n",
    "\n",
    "          \n",
    "        # Convolutional layers\n",
    "        self.conv1d_layer = nn.Sequential(\n",
    "            nn.Conv1d(in_channels=in_channels, out_channels=16, kernel_size=3, stride=1, padding=1),\n",
    "            nn.ReLU(),\n",
    "            nn.Conv1d(in_channels=16, out_channels=32, kernel_size=3, stride=1, padding=1),\n",
    "            nn.ReLU(),    \n",
    "            \n",
    "            nn.MaxPool1d(kernel_size=2, stride=2),    \n",
    "        )\n",
    "        \n",
    "        self.bn0 = nn.BatchNorm1d(32)\n",
    "        self.bn1 = nn.BatchNorm1d(64)\n",
    "        self.fc_layer = nn.Linear(32, 64)  \n",
    "        self.relu = nn.ReLU()\n",
    "        self.fc_layer_class = nn.Linear(64, out_channels)\n",
    "    def forward(self, x):\n",
    "        x = self.conv1d_layer(x)\n",
    "        x = x.view(x.size(0), -1)\n",
    "        x = self.bn0(x)\n",
    "        x = self.fc_layer(x)\n",
    "        # x = self.bn1(x)\n",
    "        x = self.relu(x)\n",
    "        x = self.fc_layer_class(x)\n",
    "        # x = self.relu(x)\n",
    "        x = F.softmax(x, dim=1)\n",
    "        return x"
   ]
  },
  {
   "cell_type": "markdown",
   "metadata": {},
   "source": [
    "### Loss FUnction and Optimizer"
   ]
  },
  {
   "cell_type": "code",
   "execution_count": 19,
   "metadata": {},
   "outputs": [],
   "source": [
    "device = torch.device(\"cuda:0\" if torch.cuda.is_available() else \"cpu\")\n",
    "\n",
    "\n",
    "model = CNNOnly(in_channels=in_channels, out_channels=num_classes).to(device)\n",
    "\n",
    "loss_function = nn.CrossEntropyLoss()  \n",
    "optimizer = optim.Adam(model.parameters(), lr=lr, weight_decay=weight_decay)  # optimizer\n",
    "\n",
    "# Tensorboard\n",
    "from torch.utils.tensorboard import SummaryWriter\n",
    "\n",
    "# Create SummaryWriter for Tensorboard\n",
    "writer = SummaryWriter()\n",
    "\n",
    "# Assume trainloader is your DataLoader for training\n",
    "images, labels = next(iter(trainloader))\n",
    "\n",
    "# Move the model to the same device as the images and labels\n",
    "model.to(device)\n",
    "\n",
    "# Add the graph to Tensorboard\n",
    "writer.add_graph(model, images.to(device))"
   ]
  },
  {
   "cell_type": "markdown",
   "metadata": {},
   "source": [
    "### Train and Validation"
   ]
  },
  {
   "cell_type": "code",
   "execution_count": 20,
   "metadata": {},
   "outputs": [
    {
     "name": "stdout",
     "output_type": "stream",
     "text": [
      "*Train Start!!*\n",
      "epoch : 25, learing rate : 0.01, device : cpu\n",
      "Model : CNNOnly\n",
      "Loss function : CrossEntropyLoss\n",
      "Optimizer : Adam ( Parameter Group 0, amsgrad: False, betas: (0.9, 0.999), capturable: False, differentiable: False, eps: 1e-08, foreach: None, fused: None, lr: 0.01, maximize: False, weight_decay: 0.001 )\n",
      "****************************************************************************************************\n",
      "[Train] (1, 0) Time=0.01[s], loss = 1.39691, Accuracy = 0.2656, lr=0.010000\n",
      "[Train] (1, 100) Time=0.21[s], loss = 1.03359, Accuracy = 0.4922, lr=0.010000\n",
      "[Train] (2, 0) Time=0.31[s], loss = 1.09788, Accuracy = 0.5365, lr=0.010000\n",
      "[Train] (2, 100) Time=0.51[s], loss = 1.02036, Accuracy = 0.5859, lr=0.010000\n",
      "[Train] (3, 0) Time=0.61[s], loss = 0.94582, Accuracy = 0.6313, lr=0.010000\n",
      "[Train] (3, 100) Time=0.78[s], loss = 0.99983, Accuracy = 0.6536, lr=0.010000\n",
      "[Train] (4, 0) Time=0.89[s], loss = 1.00958, Accuracy = 0.6629, lr=0.010000\n",
      "[Train] (4, 100) Time=1.07[s], loss = 1.11283, Accuracy = 0.6582, lr=0.010000\n",
      "[Train] (5, 0) Time=1.18[s], loss = 0.95969, Accuracy = 0.6753, lr=0.010000\n",
      "[Train] (5, 100) Time=1.39[s], loss = 1.07829, Accuracy = 0.6719, lr=0.010000\n",
      "----------------------------------------------------------------------------------------------------\n",
      "|  Validation 0.03[s], Accuracy : 0.7665, Precision : 0.7704, Recall : 0.7665, F1 Score : 0.7574   |\n",
      "----------------------------------------------------------------------------------------------------\n",
      "[Train] (6, 0) Time=1.54[s], loss = 1.02201, Accuracy = 0.6747, lr=0.010000\n",
      "[Train] (6, 100) Time=1.74[s], loss = 0.93044, Accuracy = 0.6862, lr=0.010000\n",
      "[Train] (7, 0) Time=1.85[s], loss = 0.91886, Accuracy = 0.6971, lr=0.010000\n",
      "[Train] (7, 100) Time=2.06[s], loss = 0.93926, Accuracy = 0.7042, lr=0.010000\n",
      "[Train] (8, 0) Time=2.18[s], loss = 0.94733, Accuracy = 0.7104, lr=0.010000\n",
      "[Train] (8, 100) Time=2.38[s], loss = 0.88170, Accuracy = 0.7197, lr=0.010000\n",
      "[Train] (9, 0) Time=2.49[s], loss = 0.99657, Accuracy = 0.7215, lr=0.010000\n",
      "[Train] (9, 100) Time=2.68[s], loss = 0.87631, Accuracy = 0.7292, lr=0.010000\n",
      "[Train] (10, 0) Time=2.77[s], loss = 0.97457, Accuracy = 0.7311, lr=0.010000\n",
      "[Train] (10, 100) Time=2.98[s], loss = 0.98617, Accuracy = 0.7320, lr=0.010000\n",
      "----------------------------------------------------------------------------------------------------\n",
      "|  Validation 0.04[s], Accuracy : 0.7923, Precision : 0.7961, Recall : 0.7923, F1 Score : 0.7876   |\n",
      "----------------------------------------------------------------------------------------------------\n",
      "[Train] (11, 0) Time=3.12[s], loss = 0.93955, Accuracy = 0.7359, lr=0.010000\n",
      "[Train] (11, 100) Time=3.31[s], loss = 1.07657, Accuracy = 0.7322, lr=0.010000\n",
      "[Train] (12, 0) Time=3.41[s], loss = 0.99263, Accuracy = 0.7330, lr=0.010000\n",
      "[Train] (12, 100) Time=3.57[s], loss = 0.99203, Accuracy = 0.7337, lr=0.010000\n",
      "[Train] (13, 0) Time=3.67[s], loss = 0.97215, Accuracy = 0.7356, lr=0.010000\n",
      "[Train] (13, 100) Time=3.84[s], loss = 0.93314, Accuracy = 0.7392, lr=0.010000\n",
      "[Train] (14, 0) Time=3.92[s], loss = 1.02211, Accuracy = 0.7384, lr=0.010000\n",
      "[Train] (14, 100) Time=4.10[s], loss = 0.99904, Accuracy = 0.7394, lr=0.010000\n",
      "[Train] (15, 0) Time=4.20[s], loss = 0.94440, Accuracy = 0.7414, lr=0.010000\n",
      "[Train] (15, 100) Time=4.40[s], loss = 0.97319, Accuracy = 0.7427, lr=0.010000\n",
      "----------------------------------------------------------------------------------------------------\n",
      "|  Validation 0.03[s], Accuracy : 0.7969, Precision : 0.8022, Recall : 0.7969, F1 Score : 0.7889   |\n",
      "----------------------------------------------------------------------------------------------------\n",
      "[Train] (16, 0) Time=4.52[s], loss = 0.99414, Accuracy = 0.7429, lr=0.010000\n",
      "[Train] (16, 100) Time=4.69[s], loss = 0.91086, Accuracy = 0.7456, lr=0.010000\n",
      "[Train] (17, 0) Time=4.78[s], loss = 0.97129, Accuracy = 0.7462, lr=0.010000\n",
      "[Train] (17, 100) Time=4.95[s], loss = 0.95092, Accuracy = 0.7477, lr=0.010000\n",
      "[Train] (18, 0) Time=5.04[s], loss = 0.98661, Accuracy = 0.7482, lr=0.010000\n",
      "[Train] (18, 100) Time=5.21[s], loss = 0.89373, Accuracy = 0.7509, lr=0.010000\n",
      "[Train] (19, 0) Time=5.30[s], loss = 0.89799, Accuracy = 0.7530, lr=0.010000\n",
      "[Train] (19, 100) Time=5.48[s], loss = 0.96493, Accuracy = 0.7533, lr=0.010000\n",
      "[Train] (20, 0) Time=5.58[s], loss = 1.03339, Accuracy = 0.7520, lr=0.010000\n",
      "[Train] (20, 100) Time=5.75[s], loss = 1.03442, Accuracy = 0.7508, lr=0.010000\n",
      "----------------------------------------------------------------------------------------------------\n",
      "|  Validation 0.03[s], Accuracy : 0.7969, Precision : 0.8034, Recall : 0.7969, F1 Score : 0.7942   |\n",
      "----------------------------------------------------------------------------------------------------\n",
      "[Train] (21, 0) Time=5.88[s], loss = 0.97267, Accuracy = 0.7511, lr=0.010000\n",
      "[Train] (21, 100) Time=6.06[s], loss = 0.94141, Accuracy = 0.7526, lr=0.010000\n",
      "[Train] (22, 0) Time=6.16[s], loss = 0.86310, Accuracy = 0.7562, lr=0.010000\n",
      "[Train] (22, 100) Time=6.35[s], loss = 0.90093, Accuracy = 0.7582, lr=0.010000\n",
      "[Train] (23, 0) Time=6.45[s], loss = 0.95130, Accuracy = 0.7590, lr=0.010000\n",
      "[Train] (23, 100) Time=6.66[s], loss = 1.00266, Accuracy = 0.7585, lr=0.010000\n",
      "[Train] (24, 0) Time=6.77[s], loss = 1.01315, Accuracy = 0.7576, lr=0.010000\n",
      "[Train] (24, 100) Time=7.02[s], loss = 0.96264, Accuracy = 0.7581, lr=0.010000\n",
      "[Train] (25, 0) Time=7.14[s], loss = 0.94066, Accuracy = 0.7592, lr=0.010000\n",
      "[Train] (25, 100) Time=7.36[s], loss = 0.92553, Accuracy = 0.7606, lr=0.010000\n",
      "----------------------------------------------------------------------------------------------------\n",
      "|  Validation 0.04[s], Accuracy : 0.8061, Precision : 0.8110, Recall : 0.8061, F1 Score : 0.8017   |\n",
      "----------------------------------------------------------------------------------------------------\n"
     ]
    }
   ],
   "source": [
    "start = time.time()\n",
    "correct = 0\n",
    "total = 0\n",
    "train_acc = []\n",
    "tmp_acc = 0\n",
    "loss_arr = []\n",
    "\n",
    "print(\"*Train Start!!*\")\n",
    "if torch.cuda.device_count() == True:\n",
    "    print(\"epoch : {}, learing rate : {}, device : {}\".format(num_epoch, lr, torch.cuda.get_device_name(0)))\n",
    "    print(\"Model : {}\".format(model._get_name()))\n",
    "    print(\"Loss function : {}\".format(loss_function._get_name()))\n",
    "    print(\"Optimizer : {}\".format(str(optimizer).replace(\"\\n\", \" \").replace(\"     \", \", \")))\n",
    "else:\n",
    "    print(\"epoch : {}, learing rate : {}, device : {}\".format(num_epoch, lr, device))\n",
    "    print(\"Model : {}\".format(model._get_name()))\n",
    "    print(\"Loss function : {}\".format(loss_function._get_name()))\n",
    "    print(\"Optimizer : {}\".format(str(optimizer).replace(\"\\n\", \" \").replace(\"     \", \", \")))\n",
    "print(\"*\"*100)\n",
    "\n",
    "# train\n",
    "for epoch in range(num_epoch): \n",
    "    epoch += 1\n",
    "    for train_iter, (train_x, train_y_true) in enumerate(trainloader):\n",
    "        model.train()  # Train mode\n",
    "        model.zero_grad()  # model zero initialize\n",
    "        optimizer.zero_grad()  # optimizer zero initialize\n",
    "        \n",
    "\n",
    "        train_x, train_y_true = train_x.to(device), train_y_true.to(device)  # device(gpu)\n",
    "        train_y_pred = model.forward(train_x)  # forward\n",
    "        loss = loss_function(train_y_pred, train_y_true)  # loss function\n",
    "        loss.backward()  # backward\n",
    "        optimizer.step()  # optimizer\n",
    "        _, pred_index = torch.max(train_y_pred, 1)\n",
    "        \n",
    "        if train_iter % view_train_iter == 0:\n",
    "            loss_arr.append(loss.item())\n",
    "            total += train_y_true.size(0)  # y.size(0)\n",
    "            correct += (pred_index == train_y_true).sum().float()  # correct\n",
    "            tmp_acc = correct / total  # accuracy\n",
    "            train_acc.append(tmp_acc)\n",
    "\n",
    "            writer.add_scalar(\"Loss/train\", loss, epoch)\n",
    "            writer.add_scalar(\"Accuracy/train\",tmp_acc, epoch)\n",
    "\n",
    "            print(\"[Train] ({}, {}) Time={:.2f}[s], loss = {:.5f}, Accuracy = {:.4f}, lr={:.6f}\".format(epoch, train_iter, time.time()-start, loss.item(), tmp_acc, optimizer.param_groups[0]['lr']))\n",
    "    # lr_scheduler.step()\n",
    "    # validation \n",
    "    if epoch % view_val_iter == 0: \n",
    "        val_acc_tmp, val_precision_tmp, val_recall_tmp, val_f1_tmp = [], [], [], []\n",
    "        val_acc_result, val_precision_result, val_recall_result, val_f1_result = [], [], [], []\n",
    "        val_time = time.time()\n",
    "        for val_iter, (val_x, val_y_true) in enumerate(validationloader):\n",
    "            model.eval()\n",
    "            val_x, val_y_true = val_x.to(device), val_y_true.to(device)  # device(gpu)\n",
    "            val_y_pred = model.forward(val_x)  # forward\n",
    "            _, val_pred_index = torch.max(val_y_pred, 1)\n",
    "\n",
    "            val_pred_index_cpu = val_pred_index.cpu().detach().numpy()\n",
    "            val_y_true_cpu = val_y_true.cpu().detach().numpy()\n",
    "            \n",
    "            val_acc, val_precision, val_recall, val_f1 = get_clf_eval(val_y_true_cpu, val_pred_index_cpu)\n",
    "\n",
    "            val_acc_tmp.append(val_acc), val_acc_result.append(val_acc)\n",
    "            val_precision_tmp.append(val_precision), val_precision_result.append(val_precision)\n",
    "            val_recall_tmp.append(val_recall), val_recall_result.append(val_recall)\n",
    "            val_f1_tmp.append(val_f1), val_f1_result.append(val_f1)\n",
    "\n",
    "        val_acc_mean = sum(val_acc_tmp, 0.0)/len(val_acc_tmp)\n",
    "        val_precision_mean = sum(val_precision_tmp, 0.0)/len(val_precision_tmp)\n",
    "        val_recall_mean = sum(val_recall_tmp, 0.0)/len(val_recall_tmp)\n",
    "        val_f1_mean = sum(val_f1_tmp, 0.0)/len(val_f1_tmp)\n",
    "\n",
    "        print(\"-\"*100)\n",
    "        print(\"|  Validation {:.2f}[s], Accuracy : {:.4f}, Precision : {:.4f}, Recall : {:.4f}, F1 Score : {:.4f}   |\".format(\n",
    "            time.time()-val_time, val_acc_mean, val_precision_mean, val_recall_mean, val_f1_mean))\n",
    "        print(\"-\"*100)\n",
    "        if val_acc_mean >= save_point:\n",
    "            epoch_str = str(epoch)\n",
    "            lr_str = str(lr)\n",
    "            batch_str= str(batch_size)\n",
    "            acc_str= str((int(val_acc_mean*100)))\n",
    "            model_name = \"[\"+model._get_name()+\"](epoch-\"+epoch_str+\")-\"+\"(init_lr-\"+lr_str+\")-\"+\"(batch-\"+batch_str+\")-\"+\"(acc-\"+acc_str+\").pt\"\n",
    "            save_path = os.path.join(path, dir_ ,model_name)\n",
    "            parameters = {'epoch' : epoch, 'model_state_dict' : model.state_dict(), 'optimizer_state_dict' : optimizer.state_dict(), 'loss' : loss}\n",
    "            torch.save(parameters, save_path)\n",
    "            print('[INFO] Model Saved : '+ save_path)\n",
    "writer.flush()\n",
    "writer.close()"
   ]
  },
  {
   "cell_type": "code",
   "execution_count": 21,
   "metadata": {},
   "outputs": [
    {
     "data": {
      "image/png": "[encoded data removed]",
      "text/plain": [
       "<Figure size 1200x1000 with 2 Axes>"
      ]
     },
     "metadata": {},
     "output_type": "display_data"
    }
   ],
   "source": [
    "fig = plt.figure(figsize=[12, 10])\n",
    "loss_plt = plt.subplot(2,1,1)\n",
    "acc_plt = plt.subplot(2,1,2)\n",
    "\n",
    "loss_plt.plot(loss_arr, color='red', marker=\"*\")\n",
    "loss_plt.set_title(\"Train - Loss\", fontsize=16)\n",
    "loss_plt.legend(['Train-Loss'], fontsize=16)\n",
    "loss_plt.grid(True, axis='y')\n",
    "\n",
    "acc_plt.plot(train_acc, color='black', marker=\"*\")\n",
    "acc_plt.set_title(\"Train - Accuracy\", fontsize=16)\n",
    "acc_plt.legend(['Train-Accuracy'], fontsize=16)\n",
    "acc_plt.set_ylim((0.0, 1.05))\n",
    "acc_plt.grid(True, axis='y')\n",
    "\n",
    "plt.show()"
   ]
  },
  {
   "cell_type": "markdown",
   "metadata": {},
   "source": [
    "### Model Evaluation"
   ]
  },
  {
   "cell_type": "code",
   "execution_count": 22,
   "metadata": {},
   "outputs": [
    {
     "name": "stdout",
     "output_type": "stream",
     "text": [
      "[Evaluation] 0.04[s], Test Accuracy : 0.8061, Precision : 0.8110, Recall : 0.8061, F1 Score : 0.8017\n",
      "[Model Performance] Model Performance : 0.80607\n"
     ]
    }
   ],
   "source": [
    "test_start = time.time()\n",
    "\n",
    "model.eval()\n",
    "with torch.no_grad():\n",
    "    test_acc_tmp, test_precision_tmp, test_recall_tmp, test_f1_tmp = [], [], [], []\n",
    "    for test_iter, (test_x, test_y_true) in enumerate(testloader):\n",
    "        test_x, test_y_true = test_x.to(device), test_y_true.to(device)\n",
    "        test_y_pred = model.forward(test_x)  # forward\n",
    "\n",
    "        _, test_pred_index = torch.max(test_y_pred, 1)\n",
    "\n",
    "        test_pred_index_cpu = test_pred_index.cpu().detach().numpy()\n",
    "        test_y_true_cpu = test_y_true.cpu().detach().numpy()\n",
    "            \n",
    "        test_acc, test_precision, test_recall, test_f1 = get_clf_eval(test_y_true_cpu, test_pred_index_cpu)\n",
    "\n",
    "        test_acc_tmp.append(test_acc), test_precision_tmp.append(test_precision), test_recall_tmp.append(test_recall), test_f1_tmp.append(test_f1)\n",
    "\n",
    "    test_acc_mean = sum(test_acc_tmp, 0.0)/len(test_acc_tmp)\n",
    "    test_precision_mean = sum(test_precision_tmp, 0.0)/len(test_precision_tmp)\n",
    "    test_recall_mean = sum(test_recall_tmp, 0.0)/len(test_recall_tmp)\n",
    "    test_f1_mean = sum(test_f1_tmp, 0.0)/len(test_f1_tmp)\n",
    "    print(\"[Evaluation] {:.2f}[s], Test Accuracy : {:.4f}, Precision : {:.4f}, Recall : {:.4f}, F1 Score : {:.4f}\".format(\n",
    "        time.time()-test_start, test_acc_mean, test_precision_mean, test_recall_mean, test_f1_mean))\n",
    "    print(\"[Model Performance] Model Performance : {:.5f}\".format(test_acc_mean))"
   ]
  },
  {
   "cell_type": "code",
   "execution_count": null,
   "metadata": {},
   "outputs": [],
   "source": []
  }
 ],
 "metadata": {
  "kernelspec": {
   "display_name": "Python 3",
   "language": "python",
   "name": "python3"
  },
  "language_info": {
   "codemirror_mode": {
    "name": "ipython",
    "version": 3
   },
   "file_extension": ".py",
   "mimetype": "text/x-python",
   "name": "python",
   "nbconvert_exporter": "python",
   "pygments_lexer": "ipython3",
   "version": "3.10.10"
  }
 },
 "nbformat": 4,
 "nbformat_minor": 2
}
